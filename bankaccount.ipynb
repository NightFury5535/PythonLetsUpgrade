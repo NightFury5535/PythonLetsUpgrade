{
 "nbformat": 4,
 "nbformat_minor": 2,
 "metadata": {
  "language_info": {
   "name": "python",
   "codemirror_mode": {
    "name": "ipython",
    "version": 3
   },
   "version": "3.7.6-final"
  },
  "orig_nbformat": 2,
  "file_extension": ".py",
  "mimetype": "text/x-python",
  "name": "python",
  "npconvert_exporter": "python",
  "pygments_lexer": "ipython3",
  "version": 3,
  "kernelspec": {
   "name": "python37364bitbaseconda1e97a5aac42d44f8a6cc1f064361dc78",
   "display_name": "Python 3.7.3 64-bit ('base': conda)"
  }
 },
 "cells": [
  {
   "cell_type": "markdown",
   "metadata": {},
   "source": [
    "For this challenge, create bank account class that has two attributes and two methods:\n",
    "\n",
    "1 attributes:\n",
    "\n",
    "    Owner\n",
    "\n",
    "    balance\n",
    "    \n",
    "2 methods:\n",
    "\n",
    "    deposit\n",
    "\n",
    "    withdraw\n",
    "\n",
    "As an added requirement, withdrawals may not exceed the available balance.\n",
    "\n",
    "Instantiate your class, make several deposits and withdrawals, and test to make sure the account can't be overdrawn."
   ]
  },
  {
   "cell_type": "code",
   "execution_count": 4,
   "metadata": {},
   "outputs": [
    {
     "output_type": "stream",
     "name": "stdout",
     "text": "BalajiAccount Transaction\nYour account is debited for amount 600\nYour current balance is 600\nRupaAccount Transaction\nYour account is credit with amount 5000\nYour current balance is 7000\nBalajiAccount Transaction\nYour account is credit with amount 2000\nYour current balance is 2600\nRupaAccount Transaction\nYour account is debited for amount 2000\nYour current balance is 5000\nRupa\n5000\n"
    }
   ],
   "source": [
    "class BankAccount:\n",
    "    def __init__(self, owner, balance = 1000):\n",
    "        self.owner = owner\n",
    "        self.balance = balance\n",
    "\n",
    "    def deposit(self,amount):\n",
    "        self.balance = self.balance + amount\n",
    "        print(self.owner + \" Account Transaction\")\n",
    "        print(\"Your account is credit with amount \" + str(amount))\n",
    "        print(\"Your current balance is \" + str(self.balance))\n",
    "    \n",
    "    def withdraw(self,amount):\n",
    "        if(self.balance >= amount):\n",
    "            self.balance = self.balance - amount\n",
    "            print(self.owner + \" Account Transaction\")\n",
    "            print(\"Your account is debited for amount \" + str(amount))\n",
    "            print(\"Your current balance is \" + str(self.balance))\n",
    "\n",
    "b1 = BankAccount(\"Balaji\",1200)\n",
    "b2 = BankAccount(\"Rupa\",2000)\n",
    "\n",
    "b1.withdraw(600)\n",
    "b2.deposit(5000)\n",
    "b1.deposit(2000)\n",
    "b2.withdraw(2000)\n"
   ]
  },
  {
   "cell_type": "code",
   "execution_count": null,
   "metadata": {},
   "outputs": [],
   "source": []
  }
 ]
}