{
 "nbformat": 4,
 "nbformat_minor": 2,
 "metadata": {
  "language_info": {
   "name": "python",
   "codemirror_mode": {
    "name": "ipython",
    "version": 3
   },
   "version": "3.7.3-final"
  },
  "orig_nbformat": 2,
  "file_extension": ".py",
  "mimetype": "text/x-python",
  "name": "python",
  "npconvert_exporter": "python",
  "pygments_lexer": "ipython3",
  "version": 3,
  "kernelspec": {
   "name": "python37364bitbaseconda1e97a5aac42d44f8a6cc1f064361dc78",
   "display_name": "Python 3.7.3 64-bit ('base': conda)"
  }
 },
 "cells": [
  {
   "cell_type": "markdown",
   "metadata": {},
   "source": [
    "## Files"
   ]
  },
  {
   "cell_type": "code",
   "execution_count": 1,
   "metadata": {},
   "outputs": [
    {
     "output_type": "stream",
     "name": "stdout",
     "text": "I Love Python.\n"
    }
   ],
   "source": [
    "# Create a file and write content to it.\n",
    "file = open(\"file.txt\",\"w\")\n",
    "file.write(\"I Love Python.\")\n",
    "file.close()\n",
    "\n",
    "# Open a file and read data from it.\n",
    "file = open(\"file.txt\",\"r\")\n",
    "data = file.read()\n",
    "print(data)\n",
    "file.close()\n"
   ]
  }
 ]
}