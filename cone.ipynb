{
 "nbformat": 4,
 "nbformat_minor": 2,
 "metadata": {
  "language_info": {
   "name": "python",
   "codemirror_mode": {
    "name": "ipython",
    "version": 3
   },
   "version": "3.7.6-final"
  },
  "orig_nbformat": 2,
  "file_extension": ".py",
  "mimetype": "text/x-python",
  "name": "python",
  "npconvert_exporter": "python",
  "pygments_lexer": "ipython3",
  "version": 3,
  "kernelspec": {
   "name": "python37364bitbaseconda1e97a5aac42d44f8a6cc1f064361dc78",
   "display_name": "Python 3.7.3 64-bit ('base': conda)"
  }
 },
 "cells": [
  {
   "cell_type": "markdown",
   "metadata": {},
   "source": [
    "For this challenge, create a cone class that has two attributes and two menthods:\n",
    "\n",
    "1 attributes:\n",
    "\n",
    "    R = radius\n",
    "\n",
    "    H = height\n",
    "    \n",
    "2 methods:\n",
    "\n",
    "    volume\n",
    "\n",
    "    surface area\n"
   ]
  },
  {
   "cell_type": "code",
   "execution_count": 7,
   "metadata": {},
   "outputs": [
    {
     "output_type": "stream",
     "name": "stdout",
     "text": "Volume of cone with Radius = 5 and Height = 10 is 261.79938779914943 cm3\nSurface area of cone with Radius = 5 and Height = 10 is 254.160184615763 cm2\n"
    }
   ],
   "source": [
    "import math\n",
    "\n",
    "class Cone:\n",
    "    def __init__(self, radius, height):\n",
    "        self.R = radius\n",
    "        self.H = height\n",
    "    \n",
    "    def volume(self):\n",
    "        volume = (1/3)*math.pi * self.R * self.R *self.H\n",
    "        print(\"Volume of cone with Radius = \" + str(self.R) + \" and Height = \" + str(self.H) + \" is \" + str(volume) + \" cm3\")\n",
    "\n",
    "    def surface_area(self):\n",
    "        S = math.sqrt(self.R * self.R + self.H * self.H)\n",
    "        Sarea = math.pi * self.R * (self.R + S)\n",
    "        print(\"Surface area of cone with Radius = \" + str(self.R) + \" and Height = \" + str(self.H) + \" is \" + str(Sarea) + \" cm2\")\n",
    "\n",
    "c1 = Cone(5,10)\n",
    "c1.volume()\n",
    "c1.surface_area()\n",
    ""
   ]
  },
  {
   "cell_type": "code",
   "execution_count": null,
   "metadata": {},
   "outputs": [],
   "source": []
  }
 ]
}