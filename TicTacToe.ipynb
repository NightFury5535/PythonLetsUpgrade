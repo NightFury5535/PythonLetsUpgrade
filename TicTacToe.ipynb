{
 "nbformat": 4,
 "nbformat_minor": 2,
 "metadata": {
  "language_info": {
   "name": "python",
   "codemirror_mode": {
    "name": "ipython",
    "version": 3
   },
   "version": "3.7.3-final"
  },
  "orig_nbformat": 2,
  "file_extension": ".py",
  "mimetype": "text/x-python",
  "name": "python",
  "npconvert_exporter": "python",
  "pygments_lexer": "ipython3",
  "version": 3,
  "kernelspec": {
   "name": "python37364bitbaseconda1e97a5aac42d44f8a6cc1f064361dc78",
   "display_name": "Python 3.7.3 64-bit ('base': conda)"
  }
 },
 "cells": [
  {
   "cell_type": "markdown",
   "metadata": {},
   "source": [
    "## Tic-Tac-Toe"
   ],
   "execution_count": null,
   "outputs": []
  },
  {
   "cell_type": "code",
   "execution_count": 2,
   "metadata": {},
   "outputs": [
    {
     "output_type": "stream",
     "name": "stdout",
     "text": "Tic-Tac-Toe\n\n\nNote:\nUse you numpad to play the game\nPress the respective key to enter the value in the grid\n\n\nEnter Player Details\nBalaji VS Rupa\n\nBalaji play\n |  | \n---------\n |  | \n---------\nX |  | \n\nRupa play\n |  | \n---------\n |  | \n---------\nX | O | \n\nBalaji play\n |  | X\n---------\n |  | \n---------\nX | O | \n\nRupa play\n |  | X\n---------\n | O | \n---------\nX | O | \n\nBalaji play\n | X | X\n---------\n | O | \n---------\nX | O | \n\nRupa play\nO | X | X\n---------\n | O | \n---------\nX | O | \n\nBalaji play\nO | X | X\n---------\nX | O | \n---------\nX | O | \n\nRupa play\nO | X | X\n---------\nX | O | O\n---------\nX | O | \n\nBalaji play\nO | X | X\n---------\nX | O | O\n---------\nX | O | X\n"
    }
   ],
   "source": [
    "print(\"Tic-Tac-Toe\")\n",
    "\n",
    "print(\"\\n\")\n",
    "print(\"Note:\")\n",
    "print(\"Use you numpad to play the game\")\n",
    "print(\"Press the respective key to enter the value in the grid\")\n",
    "\n",
    "print(\"\\n\")\n",
    "print(\"Enter Player Details\")\n",
    "player_1 = input(\"Enter Player 1 Name\")\n",
    "player_2 = input(\"Enter Player 2 Name\")\n",
    "print(player_1 + \" VS \" + player_2)\n",
    "\n",
    "who_is_playing = 0\n",
    "\n",
    "grid = [\"\",\"\",\"\",\"\",\"\",\"\",\"\",\"\",\"\"]\n",
    "\n",
    "def print_grid():\n",
    "    print(grid[6] + \" | \" + grid[7] + \" | \" + grid[8])\n",
    "    print(\"---------\")\n",
    "    print(grid[3] + \" | \" + grid[4] + \" | \" + grid[5])\n",
    "    print(\"---------\")\n",
    "    print(grid[0] + \" | \" + grid[1] + \" | \" + grid[2])\n",
    "\n",
    "def get_position():\n",
    "    value = int(input(\"Enter your position\"))\n",
    "    if(value >= 1 and value <= 9):\n",
    "        if(grid[value - 1] == 'X' or grid[value - 1] == 'O'):\n",
    "            print(\"Position is already occupied\")\n",
    "            get_position()\n",
    "        return value\n",
    "    else:\n",
    "        return get_position()\n",
    "\n",
    "def check_grid():\n",
    "    if(grid[0] == grid[1] == grid[2] and (grid[0] != \"\" and grid[1] != \"\" and grid[2] != \"\")):\n",
    "        return True\n",
    "    elif(grid[3] == grid[4] == grid[5] and (grid[3] != \"\" and grid[4] != \"\" and grid[5] != \"\")):\n",
    "        return True\n",
    "    elif(grid[6] == grid[7] == grid[8] and (grid[6] != \"\" and grid[7] != \"\" and grid[8] != \"\")):\n",
    "        return True\n",
    "    elif(grid[0] == grid[3] == grid[6] and (grid[0] != \"\" and grid[3] != \"\" and grid[6] != \"\")):\n",
    "        return True\n",
    "    elif(grid[1] == grid[4] == grid[7] and (grid[1] != \"\" and grid[4] != \"\" and grid[7] != \"\")):\n",
    "        return True\n",
    "    elif(grid[2] == grid[5] == grid[8] and (grid[2] != \"\" and grid[5] != \"\" and grid[8] != \"\")):\n",
    "        return True\n",
    "    elif(grid[0] == grid[4] == grid[8] and (grid[0] != \"\" and grid[4] != \"\" and grid[8] != \"\")):\n",
    "        return True\n",
    "    elif(grid[2] == grid[4] == grid[6] and (grid[2] != \"\" and grid[4] != \"\" and grid[6] != \"\")):\n",
    "        return True\n",
    "    else:\n",
    "        return False\n",
    "\n",
    "while(who_is_playing < 9):\n",
    "    if(who_is_playing%2 == 0):\n",
    "        print(\"\\n\" + player_1 + \" play\")\n",
    "        value = get_position()\n",
    "        grid[value - 1] =\"X\"\n",
    "    else:\n",
    "        print(\"\\n\" + player_2 + \" play\")\n",
    "        value = get_position()\n",
    "        grid[value - 1] = \"O\"\n",
    "    print_grid()\n",
    "    result = check_grid()\n",
    "    if(result == True):\n",
    "        if(who_is_playing%2 == 0):\n",
    "            print(\"\\n\" + player_1 + \" won the game\")\n",
    "        else:\n",
    "            print(\"\\n\" + player_2  + \" won the game\")\n",
    "        break\n",
    "    else:\n",
    "        print(\"Game draw\")\n",
    "    who_is_playing += 1\n",
    "\n",
    "\n"
   ]
  },
  {
   "cell_type": "code",
   "execution_count": null,
   "metadata": {},
   "outputs": [],
   "source": []
  }
 ]
}