{
 "nbformat": 4,
 "nbformat_minor": 2,
 "metadata": {
  "language_info": {
   "name": "python",
   "codemirror_mode": {
    "name": "ipython",
    "version": 3
   },
   "version": "3.7.3-final"
  },
  "orig_nbformat": 2,
  "file_extension": ".py",
  "mimetype": "text/x-python",
  "name": "python",
  "npconvert_exporter": "python",
  "pygments_lexer": "ipython3",
  "version": 3,
  "kernelspec": {
   "name": "python37364bitbaseconda1e97a5aac42d44f8a6cc1f064361dc78",
   "display_name": "Python 3.7.3 64-bit ('base': conda)"
  }
 },
 "cells": [
  {
   "cell_type": "markdown",
   "metadata": {},
   "source": [
    "WAP for taking one number a input and then using if elif else concept, assign a grade to the input number from \n",
    "\n",
    "A,B,C,D,E, Fail\n"
   ],
   "execution_count": null,
   "outputs": []
  },
  {
   "cell_type": "code",
   "execution_count": 14,
   "metadata": {},
   "outputs": [
    {
     "output_type": "stream",
     "name": "stdout",
     "text": "Welcome to grade convertor\nEnter a number between 1 to 100:\nGrade equivalent to 45 is F\n"
    }
   ],
   "source": [
    "print(\"Welcome to grade convertor\")\n",
    "print(\"Enter a number between 1 to 100:\")\n",
    "num = input()\n",
    "num = int(num)\n",
    "if(num >= 1 and num <= 100):\n",
    "    if(num > 90 and num <= 100):\n",
    "        print(\"Grade equivalent to \" + str(num) + \" is A\")\n",
    "    elif(num > 80 and num <= 90):\n",
    "        print(\"Grade equivalent to \" + str(num) + \" is B\")\n",
    "    elif(num > 70 and num <= 80):\n",
    "        print(\"Grade equivalent to \" + str(num) + \" is C\")\n",
    "    elif(num > 60 and num <= 70):\n",
    "        print(\"Grade equivalent to \" + str(num) + \" is D\")\n",
    "    elif(num >= 50 and num <= 60):\n",
    "        print(\"Grade equivalent to \" + str(num) + \" is E\")\n",
    "    else:\n",
    "        print(\"Grade equivalent to \" + str(num) + \" is F\")\n",
    "else:\n",
    "    print(\"Sorry! Entered number is not between 1 and 100.\")\n",
    ""
   ]
  },
  {
   "cell_type": "code",
   "execution_count": null,
   "metadata": {},
   "outputs": [],
   "source": []
  }
 ]
}