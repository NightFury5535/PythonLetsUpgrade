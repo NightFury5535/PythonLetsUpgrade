{
 "nbformat": 4,
 "nbformat_minor": 2,
 "metadata": {
  "language_info": {
   "name": "python",
   "codemirror_mode": {
    "name": "ipython",
    "version": 3
   },
   "version": "3.7.3-final"
  },
  "orig_nbformat": 2,
  "file_extension": ".py",
  "mimetype": "text/x-python",
  "name": "python",
  "npconvert_exporter": "python",
  "pygments_lexer": "ipython3",
  "version": 3,
  "kernelspec": {
   "name": "python37364bitbaseconda1e97a5aac42d44f8a6cc1f064361dc78",
   "display_name": "Python 3.7.3 64-bit ('base': conda)"
  }
 },
 "cells": [
  {
   "cell_type": "markdown",
   "metadata": {},
   "source": [
    "## Data Structures"
   ],
   "execution_count": null,
   "outputs": []
  },
  {
   "cell_type": "markdown",
   "metadata": {},
   "source": [
    "### String\n",
    "    It is a sequence of character enclosed with in \"\" or ''."
   ],
   "execution_count": null,
   "outputs": []
  },
  {
   "cell_type": "code",
   "execution_count": 1,
   "metadata": {},
   "outputs": [
    {
     "output_type": "stream",
     "name": "stdout",
     "text": "I am new to python.\nlength of string19\n"
    }
   ],
   "source": [
    "str_eaxmple = \"I am new to python.\"\n",
    "print(str_eaxmple)\n",
    "print(\"length of string\" + str(len(str_eaxmple)))"
   ]
  },
  {
   "cell_type": "markdown",
   "metadata": {},
   "source": [
    "## Int\n",
    "    It is a whole number."
   ],
   "execution_count": null,
   "outputs": []
  },
  {
   "cell_type": "code",
   "execution_count": 2,
   "metadata": {},
   "outputs": [
    {
     "output_type": "stream",
     "name": "stdout",
     "text": "Sum of a and b is 11\nSub of a and b is -1\nMul of a and b is 30\nDiv of a and b is 0.8333333333333334\n"
    }
   ],
   "source": [
    "a = 5\n",
    "b = 6\n",
    "print(\"Sum of a and b is \" + str(a + b))\n",
    "print(\"Sub of a and b is \" + str(a - b))\n",
    "print(\"Mul of a and b is \" + str(a * b))\n",
    "print(\"Div of a and b is \" + str(a / b))"
   ]
  },
  {
   "cell_type": "markdown",
   "metadata": {},
   "source": [
    "## Float\n",
    "    It is number with a decimal part."
   ],
   "execution_count": null,
   "outputs": []
  },
  {
   "cell_type": "code",
   "execution_count": 3,
   "metadata": {},
   "outputs": [
    {
     "output_type": "stream",
     "name": "stdout",
     "text": "Sum of a and b is 12.8\nSub of a and b is -1.7999999999999998\nMul of a and b is 40.15\nDiv of a and b is 0.7534246575342466\n"
    }
   ],
   "source": [
    "a = 5.5\n",
    "b = 7.3\n",
    "print(\"Sum of a and b is \" + str(a + b))\n",
    "print(\"Sub of a and b is \" + str(a - b))\n",
    "print(\"Mul of a and b is \" + str(a * b))\n",
    "print(\"Div of a and b is \" + str(a / b))"
   ]
  },
  {
   "cell_type": "markdown",
   "metadata": {},
   "source": [
    "## Boolean\n",
    "    It is True or false only."
   ],
   "execution_count": null,
   "outputs": []
  },
  {
   "cell_type": "code",
   "execution_count": 4,
   "metadata": {},
   "outputs": [
    {
     "output_type": "stream",
     "name": "stdout",
     "text": "a value is True\nb value is False\n"
    }
   ],
   "source": [
    "a = True\n",
    "b = False\n",
    "print(\"a value is \" + str(a))\n",
    "print(\"b value is \" + str(b))"
   ]
  },
  {
   "cell_type": "markdown",
   "metadata": {},
   "source": [
    "## List\n",
    "    It is an ordered sequence of objects. \n",
    "    It is mutable.\n",
    "    It is enclosed with in [].\n",
    "### Functions\n",
    "- append(): It is used to add an object to an existing list. Elements will be added at the end of the list.\n",
    "- clear(): It is used to remove all the elements from the list.\n",
    "- copy(): It is used to copy the existing list to another variable. An changes to the original list will not affect the copied list.\n",
    "- count(): It is used to find the count of specific element in a list.\n",
    "- extend(): It is used to extend an existing list or iterable to the end of the list.\n",
    "- index(): It is used to return the index of the first element of the specified value.\n",
    "- insert(): It is used to add an element at a specified position.\n",
    "- pop(): It is used to remove the element at a specified position or remove the last element of the list if position is not mentioned.\n",
    "- remove(): It is used to remove the first occuring element of the specified value in the list.\n",
    "- reverse(): It is used to reverse the list.\n",
    "- sort(): it is used to sort the list. By default the list is sorted ascending.\n"
   ],
   "execution_count": null,
   "outputs": []
  },
  {
   "cell_type": "code",
   "execution_count": 5,
   "metadata": {},
   "outputs": [
    {
     "output_type": "stream",
     "name": "stdout",
     "text": "lst after appending the data:\n['hello', 5, 2.8, True, False, ['Appending to lst', True]]\n"
    }
   ],
   "source": [
    "lst = [\"hello\",5,2.8,True]\n",
    "# List addpend() functiion:\n",
    "lst.append(False)\n",
    "lst.append([\"Appending to lst\", True])\n",
    "print(\"lst after appending the data:\")\n",
    "print(lst)"
   ]
  },
  {
   "cell_type": "code",
   "execution_count": 6,
   "metadata": {},
   "outputs": [
    {
     "output_type": "stream",
     "name": "stdout",
     "text": "Printing the copied lst1:\n['hello', 5, 2.8, True, False, ['Appending to lst', True]]\nPrinting the cleared lst1:\n[]\n"
    }
   ],
   "source": [
    "# List copy() and clear() function:\n",
    "lst1 = lst.copy();\n",
    "print(\"Printing the copied lst1:\")\n",
    "print(lst1)\n",
    "lst1.clear()\n",
    "print(\"Printing the cleared lst1:\")\n",
    "print(lst1)\n",
    ""
   ]
  },
  {
   "cell_type": "code",
   "execution_count": 7,
   "metadata": {},
   "outputs": [
    {
     "output_type": "stream",
     "name": "stdout",
     "text": "Printing the count of True in lst:\n1\n"
    }
   ],
   "source": [
    "# List count() function:\n",
    "print(\"Printing the count of True in lst:\")\n",
    "print(lst.count(True))"
   ]
  },
  {
   "cell_type": "code",
   "execution_count": 8,
   "metadata": {},
   "outputs": [
    {
     "output_type": "stream",
     "name": "stdout",
     "text": "Printing the extended lst:\n['hello', 5, 2.8, True, False, ['Appending to lst', True], 1, 2, 3, 4, 5, 6, 7]\n"
    }
   ],
   "source": [
    "# List extend() function:\n",
    "lst1 = [1,2,3,4,5,6,7]\n",
    "lst.extend(lst1)\n",
    "print(\"Printing the extended lst:\")\n",
    "print(lst)"
   ]
  },
  {
   "cell_type": "code",
   "execution_count": 9,
   "metadata": {},
   "outputs": [
    {
     "output_type": "stream",
     "name": "stdout",
     "text": "Printing the index of True using index function:\n3\n"
    }
   ],
   "source": [
    "# List index() function:\n",
    "print(\"Printing the index of True using index function:\")\n",
    "print(lst.index(True))"
   ]
  },
  {
   "cell_type": "code",
   "execution_count": 10,
   "metadata": {},
   "outputs": [
    {
     "output_type": "stream",
     "name": "stdout",
     "text": "['hello', 5, 2.8, True, False, ['Appending to lst', True], 1, 2, 3, 4, 5, 6, 7]\n\n\nPrinting the lst with last element poped:\n['hello', 5, 2.8, True, False, ['Appending to lst', True], 1, 2, 3, 4, 5, 6]\n\n\nPrinting the lst with 3rd index element poped:\n['hello', 5, 2.8, False, ['Appending to lst', True], 1, 2, 3, 4, 5, 6]\n"
    }
   ],
   "source": [
    "# List pop() function:\n",
    "print(lst)\n",
    "\n",
    "print(\"\\n\")\n",
    "lst.pop()\n",
    "print(\"Printing the lst with last element poped:\")\n",
    "print(lst)\n",
    "\n",
    "print(\"\\n\")\n",
    "print(\"Printing the lst with 3rd index element poped:\")\n",
    "lst.pop(3)\n",
    "print(lst)"
   ]
  },
  {
   "cell_type": "code",
   "execution_count": 11,
   "metadata": {},
   "outputs": [
    {
     "output_type": "stream",
     "name": "stdout",
     "text": "['hello', 5, 2.8, False, ['Appending to lst', True], 1, 2, 3, 4, 5, 6]\n\n\nPrinting the lst after removing 5:\n['hello', 2.8, False, ['Appending to lst', True], 1, 2, 3, 4, 5, 6]\n"
    }
   ],
   "source": [
    "# List remove() function;\n",
    "print(lst)\n",
    "print(\"\\n\")\n",
    "lst.remove(5)\n",
    "print(\"Printing the lst after removing 5:\")\n",
    "print(lst)"
   ]
  },
  {
   "cell_type": "code",
   "execution_count": 12,
   "metadata": {},
   "outputs": [
    {
     "output_type": "stream",
     "name": "stdout",
     "text": "Printing lst before sorting:\n[5, 3, 9, 8, 1, 6, 7, 4, 2]\n\n\nPringting the sorted lst:\n[1, 2, 3, 4, 5, 6, 7, 8, 9]\n\n\nPrinting the reversed lst:\n[9, 8, 7, 6, 5, 4, 3, 2, 1]\n"
    }
   ],
   "source": [
    "# List sort() and reverse() function:\n",
    "lst = [5,3,9,8,1,6,7,4,2]\n",
    "print(\"Printing lst before sorting:\")\n",
    "print(lst)\n",
    "print(\"\\n\")\n",
    "print(\"Pringting the sorted lst:\") \n",
    "lst.sort()\n",
    "print(lst)\n",
    "print(\"\\n\")\n",
    "print(\"Printing the reversed lst:\")\n",
    "lst.reverse()\n",
    "print(lst)"
   ]
  },
  {
   "cell_type": "markdown",
   "metadata": {},
   "source": [
    "## Dictionary \n",
    "    It is an unordered collection. \n",
    "    It is mutable.\n",
    "    It is enclosed with in {}.\n",
    "    It is expressed in key value pair.\n",
    "    \n",
    "### Functions\n",
    "- clear(): It is used to remove all the elements from the dictionary.\n",
    "- copy(): It is used to copy the existing dictionary to another variable. An changes to the original dictionary will not affect the copied dictionary.\n",
    "- fromkeys(): It is used to create dictionary with the keys and values pased as an argument to function.\n",
    "- get(): It is used to get the value of the specified key which is the parameter to the function.\n",
    "- items(): It is used to return the key value pair of dictionary as tuples in a list.\n",
    "- keys(): It is used to get the list of all the keys in the dictionary.\n",
    "- pop(): It is used to remove the key value pair from the dictionary with the specified key.\n",
    "- popitem(): It is used to remove the last inserted key value pair from the dictionary.\n",
    "- setdefault(): It is used to set default values to specific keys.\n",
    "- update(): It is used to update the dictionary with new key value pair.\n",
    "- values(): It is used to get the list of all the values in the dictionary."
   ],
   "execution_count": null,
   "outputs": []
  },
  {
   "cell_type": "code",
   "execution_count": 13,
   "metadata": {},
   "outputs": [
    {
     "output_type": "stream",
     "name": "stdout",
     "text": "Printing the original dst:\n{'name': 'Balaji', 'age': 25, 'gender': 'Male'}\n\n\nPrinting the copied dst1:\n{'name': 'Balaji', 'age': 25, 'gender': 'Male'}\n\n\nPrinting the cleared dst1:\n{}\n"
    }
   ],
   "source": [
    "# Dictionary copy() and clear() functions:\n",
    "dst = {\"name\": \"Balaji\", \"age\": 25, \"gender\": \"Male\"}\n",
    "print(\"Printing the original dst:\")\n",
    "print(dst)\n",
    "print(\"\\n\")\n",
    "\n",
    "dst1 = dst.copy()\n",
    "print(\"Printing the copied dst1:\")\n",
    "print(dst1)\n",
    "print(\"\\n\")\n",
    "\n",
    "dst1.clear()\n",
    "print(\"Printing the cleared dst1:\")\n",
    "print(dst1)\n",
    ""
   ]
  },
  {
   "cell_type": "code",
   "execution_count": 14,
   "metadata": {},
   "outputs": [
    {
     "output_type": "stream",
     "name": "stdout",
     "text": "Printing dst2 created using fromkeys:\n{'name': 0, 'age': 0, 'gender': 0}\n"
    }
   ],
   "source": [
    "# Dictionary fromkeys() functions:\n",
    "x = ('name', 'age', 'gender')\n",
    "y = 0\n",
    "\n",
    "dst2 = dict.fromkeys(x,y)\n",
    "print(\"Printing dst2 created using fromkeys:\")\n",
    "print(dst2)"
   ]
  },
  {
   "cell_type": "code",
   "execution_count": 15,
   "metadata": {},
   "outputs": [
    {
     "output_type": "stream",
     "name": "stdout",
     "text": "Printing the name from the dst:\nBalaji\n"
    }
   ],
   "source": [
    "# Dictionary get() function:\n",
    "print(\"Printing the name from the dst:\")\n",
    "print(dst.get('name'))"
   ]
  },
  {
   "cell_type": "code",
   "execution_count": 16,
   "metadata": {},
   "outputs": [
    {
     "output_type": "stream",
     "name": "stdout",
     "text": "Printing the dictionary using items function:\ndict_items([('name', 'Balaji'), ('age', 25), ('gender', 'Male')])\n"
    }
   ],
   "source": [
    "# Dictionary items function:\n",
    "print(\"Printing the dictionary using items function:\")\n",
    "print(dst.items())"
   ]
  },
  {
   "cell_type": "code",
   "execution_count": 17,
   "metadata": {},
   "outputs": [
    {
     "output_type": "stream",
     "name": "stdout",
     "text": "Printing the keys of the dst:\ndict_keys(['name', 'age', 'gender'])\n\n\nPrinting the values of the dst:\ndict_values(['Balaji', 25, 'Male'])\n"
    }
   ],
   "source": [
    "# Dictionary keys() and values() function:\n",
    "print(\"Printing the keys of the dst:\")\n",
    "print(dst.keys())\n",
    "print(\"\\n\")\n",
    "\n",
    "print(\"Printing the values of the dst:\")\n",
    "print(dst.values())"
   ]
  },
  {
   "cell_type": "code",
   "execution_count": 18,
   "metadata": {},
   "outputs": [
    {
     "output_type": "stream",
     "name": "stdout",
     "text": "Printing the dst after gender pair is poped:\n{'name': 'Balaji', 'age': 25}\n\n\nPrinting the dst after popitem function is called:\n{'name': 'Balaji'}\n"
    }
   ],
   "source": [
    "# Dictionary pop() and popitem() function:\n",
    "\n",
    "print(\"Printing the dst after gender pair is poped:\")\n",
    "dst.pop('gender')\n",
    "print(dst)\n",
    "print(\"\\n\")\n",
    "\n",
    "print(\"Printing the dst after popitem function is called:\")\n",
    "dst.popitem()\n",
    "print(dst)"
   ]
  },
  {
   "cell_type": "code",
   "execution_count": 19,
   "metadata": {},
   "outputs": [
    {
     "output_type": "stream",
     "name": "stdout",
     "text": "Printing dst after setting age as default:\n{'name': 'Balaji', 'age': 25}\n"
    }
   ],
   "source": [
    "# Dictionary setdefault() function:\n",
    "\n",
    "dst.setdefault(\"age\", 25)\n",
    "print(\"Printing dst after setting age as default:\")\n",
    "print(dst)"
   ]
  },
  {
   "cell_type": "code",
   "execution_count": 20,
   "metadata": {},
   "outputs": [
    {
     "output_type": "stream",
     "name": "stdout",
     "text": "Printing the updated dst:\n{'name': 'Balaji', 'age': 25, 'gender': 'Male'}\n"
    }
   ],
   "source": [
    "# Dictionary update() function:\n",
    "dst.update({\"gender\":\"Male\"})\n",
    "print(\"Printing the updated dst:\")\n",
    "print(dst)"
   ]
  },
  {
   "cell_type": "markdown",
   "metadata": {},
   "source": [
    "## Tuple\n",
    "    Tuple is a collection which is ordered.\n",
    "    Tuple is immutable.\n",
    "    Tuple is enclosed with in ().\n",
    "\n",
    "### Functions\n",
    "- count(): It is used to count the number of elements in an tuple which is passed as an argument.\n",
    "- index(): Is is used to find an element and return it's index."
   ],
   "execution_count": null,
   "outputs": []
  },
  {
   "cell_type": "code",
   "execution_count": 21,
   "metadata": {},
   "outputs": [
    {
     "output_type": "stream",
     "name": "stdout",
     "text": "Printing the count of tpl:\n2\n\n\nPrinting the index of 8:\n3\n"
    }
   ],
   "source": [
    "# Tuples count() and index() function:\n",
    "\n",
    "tpl = (1,6,4,8,3,5,5)\n",
    "\n",
    "print(\"Printing the count of tpl:\")\n",
    "print(tpl.count(5))\n",
    "print(\"\\n\")\n",
    "\n",
    "print(\"Printing the index of 8:\")\n",
    "print(tpl.index(8))"
   ]
  },
  {
   "cell_type": "markdown",
   "metadata": {},
   "source": [
    "## Set\n",
    "    It is a collection which is unordered and unindexed.\n",
    "    It does not allow repeating elements.\n",
    "    It is enclosed with in {}.\n",
    "\n",
    "### Functions\n",
    "- add(): It is used to add an element to a set.\n",
    "- clear(): It is used to clear the entier set.\n",
    "- copy(): It is used to copy the existing set to another variable. An changes to the original dictionary will not affect the copied set.\n",
    "- difference(): It is used to get a set containing only the elements in the first set which are not in the second set.\n",
    "- difference_update(): It is used to update the first set with the difference of two sets.\n",
    "- discard(): It is used to remove  the specified element from the set.\n",
    "- intersection(): It is used to get the similar elements from 2 or more sets.\n",
    "- intersection_update(): It is used to update the first set with result of intersection function.\n",
    "- isdisjoint(): It is used to check two set are disjoint sets.\n",
    "- issubset(): It is used to check one set is sub set of another set.\n",
    "- issuperset(): It is used to check one set is super set of another set.\n",
    "- pop(): It is used to remove a randow element from the set.\n",
    "- remove(): It is used to remove a specific element from the set. If the element is not present it will through an error.\n",
    "- symmetric_difference(): It is used to get a set containing elements from both the set which are not present in both sets.\n",
    "- symmetric_difference_update(): It is used to update the original set with the result of symmetric_difference.\n",
    "- union(): It is used to combine two or more sets without repeating of elements.\n",
    "- update(): It is used to update a set at the same time it perform the union function also.\n",
    "\n",
    "    "
   ],
   "execution_count": null,
   "outputs": []
  },
  {
   "cell_type": "code",
   "execution_count": 22,
   "metadata": {},
   "outputs": [
    {
     "output_type": "stream",
     "name": "stdout",
     "text": "Printing set a:\n{1, 2, 3, 4, 5}\n\n\nPrinting set b:\n{3, 4, 5, 6, 7, 8}\n\n\nPrinting the set a with element 6 added to it:\n{1, 2, 3, 4, 5, 6}\n"
    }
   ],
   "source": [
    "# Set add() function:\n",
    "a = {1,2,3,4,5}\n",
    "b = {3,4,5,6,7,8}\n",
    "\n",
    "print(\"Printing set a:\")\n",
    "print(a)\n",
    "print(\"\\n\")\n",
    "\n",
    "print(\"Printing set b:\")\n",
    "print(b)\n",
    "print(\"\\n\")\n",
    "\n",
    "print(\"Printing the set a with element 6 added to it:\")\n",
    "a.add(6)\n",
    "print(a)"
   ]
  },
  {
   "cell_type": "code",
   "execution_count": 23,
   "metadata": {},
   "outputs": [
    {
     "output_type": "stream",
     "name": "stdout",
     "text": "printing set c which is copied from set a:\n{1, 2, 3, 4, 5, 6}\n\n\nPrinting set c after it is cleared:\nset()\n"
    }
   ],
   "source": [
    "# Set copy() and clear() function:\n",
    "c = a.copy()\n",
    "print(\"printing set c which is copied from set a:\")\n",
    "print(c)\n",
    "print(\"\\n\")\n",
    "\n",
    "c.clear()\n",
    "print(\"Printing set c after it is cleared:\")\n",
    "print(c)"
   ]
  },
  {
   "cell_type": "code",
   "execution_count": 24,
   "metadata": {},
   "outputs": [
    {
     "output_type": "stream",
     "name": "stdout",
     "text": "Printing the set c which is result of difference function:\n{1, 2}\n"
    }
   ],
   "source": [
    "# Set difference() function:\n",
    "c = a.difference(b)\n",
    "print(\"Printing the set c which is result of difference function:\")\n",
    "print(c)"
   ]
  },
  {
   "cell_type": "code",
   "execution_count": 25,
   "metadata": {},
   "outputs": [
    {
     "output_type": "stream",
     "name": "stdout",
     "text": "Printing set a the result of difference_update function:\n{1, 2}\n"
    }
   ],
   "source": [
    "# Set difference_update() function:\n",
    "print(\"Printing set a the result of difference_update function:\")\n",
    "a.difference_update(b)\n",
    "print(a)"
   ]
  },
  {
   "cell_type": "code",
   "execution_count": 26,
   "metadata": {},
   "outputs": [
    {
     "output_type": "stream",
     "name": "stdout",
     "text": "Printing set a after removing 2 using discard function:\n{1}\n"
    }
   ],
   "source": [
    "# Set discard() function:\n",
    "print(\"Printing set a after removing 2 using discard function:\")\n",
    "a.discard(2)\n",
    "print(a)"
   ]
  },
  {
   "cell_type": "code",
   "execution_count": 27,
   "metadata": {},
   "outputs": [
    {
     "output_type": "stream",
     "name": "stdout",
     "text": "Printing set c which is intersection of set a and b:\n{3, 4, 5}\n"
    }
   ],
   "source": [
    "# Set intersection() function:\n",
    "a = {1,2,3,4,5}\n",
    "b = {3,4,5,6,7,8}\n",
    "\n",
    "c = a.intersection(b)\n",
    "print(\"Printing set c which is intersection of set a and b:\")\n",
    "print(c)"
   ]
  },
  {
   "cell_type": "code",
   "execution_count": 28,
   "metadata": {},
   "outputs": [
    {
     "output_type": "stream",
     "name": "stdout",
     "text": "Printing set a which is result of intersection_update:\n{3, 4, 5}\n"
    }
   ],
   "source": [
    "# Set intersection_update() function:\n",
    "a.intersection_update(b)\n",
    "print(\"Printing set a which is result of intersection_update:\")\n",
    "print(a)"
   ]
  },
  {
   "cell_type": "code",
   "execution_count": 29,
   "metadata": {},
   "outputs": [
    {
     "output_type": "stream",
     "name": "stdout",
     "text": "Printing the result of isdisjoint between a and b:\nFalse\n\n\nPrinting the result of isdisjoint between a and b with no common value:\nTrue\n"
    }
   ],
   "source": [
    "# Set isdisjoint() function:\n",
    "print(\"Printing the result of isdisjoint between a and b:\")\n",
    "print(a.isdisjoint(b))\n",
    "print(\"\\n\")\n",
    "\n",
    "a = {1,2}\n",
    "b = {3,4}\n",
    "print(\"Printing the result of isdisjoint between a and b with no common value:\")\n",
    "print(a.isdisjoint(b))"
   ]
  },
  {
   "cell_type": "code",
   "execution_count": 30,
   "metadata": {},
   "outputs": [
    {
     "output_type": "stream",
     "name": "stdout",
     "text": "Printing the result a is subset of b:\nTrue\n"
    }
   ],
   "source": [
    "# Set issubset() function:\n",
    "a = {1,2,3,4}\n",
    "b = {1,2,3,4,5,6,7}\n",
    "print(\"Printing the result a is subset of b:\")\n",
    "print(a.issubset(b))"
   ]
  },
  {
   "cell_type": "code",
   "execution_count": 31,
   "metadata": {},
   "outputs": [
    {
     "output_type": "stream",
     "name": "stdout",
     "text": "Printing the result a is super set of b:\nTrue\n"
    }
   ],
   "source": [
    "# Set issuperset() function:\n",
    "a = {1,2,3,4}\n",
    "b = {1,2,3}\n",
    "print(\"Printing the result a is super set of b:\")\n",
    "print(a.issuperset(b))"
   ]
  },
  {
   "cell_type": "code",
   "execution_count": 32,
   "metadata": {},
   "outputs": [
    {
     "output_type": "stream",
     "name": "stdout",
     "text": "Printing set a after pop method is used:\npoped value: 1\n{2, 3, 4}\n"
    }
   ],
   "source": [
    "# Set pop() function:\n",
    "print(\"Printing set a after pop method is used:\")\n",
    "print(\"poped value: \" + str(a.pop()))\n",
    "print(a)"
   ]
  },
  {
   "cell_type": "code",
   "execution_count": 33,
   "metadata": {},
   "outputs": [
    {
     "output_type": "stream",
     "name": "stdout",
     "text": "Printing set a after removing 4 from set a:\n{1, 2, 3}\n"
    }
   ],
   "source": [
    "# Set remove() function:\n",
    "a = {1,2,3,4}\n",
    "print(\"Printing set a after removing 4 from set a:\")\n",
    "a.remove(4)\n",
    "print(a)"
   ]
  },
  {
   "cell_type": "code",
   "execution_count": 34,
   "metadata": {},
   "outputs": [
    {
     "output_type": "stream",
     "name": "stdout",
     "text": "Printing the elements which are not in both set a and b:\n{4}\n"
    }
   ],
   "source": [
    "# Set symmetric_difference() function:\n",
    "a = {1,2,3,4}\n",
    "b = {1,2,3}\n",
    "print(\"Printing the elements which are not in both set a and b:\")\n",
    "print(a.symmetric_difference(b))"
   ]
  },
  {
   "cell_type": "code",
   "execution_count": 35,
   "metadata": {},
   "outputs": [
    {
     "output_type": "stream",
     "name": "stdout",
     "text": "Printing the result of symmetric_difference_update on set a:\n{4}\n"
    }
   ],
   "source": [
    "# Set symmetric_difference_update() function:\n",
    "a = {1,2,3,4}\n",
    "b = {1,2,3}\n",
    "a.symmetric_difference_update(b)\n",
    "print(\"Printing the result of symmetric_difference_update on set a:\")\n",
    "print(a)"
   ]
  },
  {
   "cell_type": "code",
   "execution_count": 36,
   "metadata": {},
   "outputs": [
    {
     "output_type": "stream",
     "name": "stdout",
     "text": "Printing the result of union function:\n{1, 2, 3, 4}\n"
    }
   ],
   "source": [
    "# Set union() function:\n",
    "a = {1,2,3,4}\n",
    "b = {1,2,3}\n",
    "print(\"Printing the result of union function:\")\n",
    "print(a.union(b))"
   ]
  },
  {
   "cell_type": "code",
   "execution_count": 37,
   "metadata": {},
   "outputs": [
    {
     "output_type": "stream",
     "name": "stdout",
     "text": "Printing the result of update function:\n{1, 2, 3, 4, 5}\n"
    }
   ],
   "source": [
    "# Set update() function:\n",
    "a = {1,2,3,4}\n",
    "b = {1,2,3,5}\n",
    "a.update(b)\n",
    "print(\"Printing the result of update function:\")\n",
    "print(a)"
   ]
  }
 ]
}