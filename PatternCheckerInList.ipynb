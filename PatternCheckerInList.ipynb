{
 "nbformat": 4,
 "nbformat_minor": 2,
 "metadata": {
  "language_info": {
   "name": "python",
   "codemirror_mode": {
    "name": "ipython",
    "version": 3
   },
   "version": "3.7.3-final"
  },
  "orig_nbformat": 2,
  "file_extension": ".py",
  "mimetype": "text/x-python",
  "name": "python",
  "npconvert_exporter": "python",
  "pygments_lexer": "ipython3",
  "version": 3,
  "kernelspec": {
   "name": "python37364bitbaseconda1e97a5aac42d44f8a6cc1f064361dc78",
   "display_name": "Python 3.7.3 64-bit ('base': conda)"
  }
 },
 "cells": [
  {
   "cell_type": "markdown",
   "metadata": {},
   "source": [
    "Write a program to identify [1,1,5] in the given list in the same order, if yes print “it's a Match” if no then print “it's Gone”"
   ]
  },
  {
   "cell_type": "code",
   "execution_count": 4,
   "metadata": {},
   "outputs": [
    {
     "output_type": "stream",
     "name": "stdout",
     "text": "Pattern Finder\nInput List\n[1, 2, 3, 4, 5, 6, 7, 8]\nIt's Gone\n"
    }
   ],
   "source": [
    "print(\"Pattern Finder\")\n",
    "n = 8\n",
    "pattern = [1,1,5]\n",
    "input_list = []\n",
    "\n",
    "iteration = 0\n",
    "while(iteration < n):\n",
    "    iteration += 1\n",
    "    input_list.append(int(input(\"Enter the element\")))\n",
    "print(\"Input List\")\n",
    "print(input_list)\n",
    "\n",
    "total_count = len(pattern)\n",
    "current_count = 0\n",
    "\n",
    "for item in input_list:\n",
    "    if(pattern[current_count] == item):\n",
    "        current_count += 1\n",
    "    if(current_count == total_count):\n",
    "        break\n",
    "\n",
    "if(current_count == total_count):\n",
    "    print(\"It's a Match\")\n",
    "else:\n",
    "    print(\"It's Gone\")\n",
    "    \n",
    "\n",
    ""
   ]
  },
  {
   "cell_type": "code",
   "execution_count": null,
   "metadata": {},
   "outputs": [],
   "source": []
  }
 ]
}