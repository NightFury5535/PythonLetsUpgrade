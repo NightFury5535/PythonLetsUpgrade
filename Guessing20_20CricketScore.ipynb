{
 "nbformat": 4,
 "nbformat_minor": 2,
 "metadata": {
  "language_info": {
   "name": "python",
   "codemirror_mode": {
    "name": "ipython",
    "version": 3
   },
   "version": "3.7.3-final"
  },
  "orig_nbformat": 2,
  "file_extension": ".py",
  "mimetype": "text/x-python",
  "name": "python",
  "npconvert_exporter": "python",
  "pygments_lexer": "ipython3",
  "version": 3,
  "kernelspec": {
   "name": "python37364bitbaseconda1e97a5aac42d44f8a6cc1f064361dc78",
   "display_name": "Python 3.7.3 64-bit ('base': conda)"
  }
 },
 "cells": [
  {
   "cell_type": "markdown",
   "metadata": {},
   "source": [
    "WAP that give you random score of Team India in a cricket match, and a players has to guess the score given by computer in between 1 to 250. The rules are:\n",
    "\n",
    "-If a player's guess is less than 1 or greater than 250, say \"Reduce your expectation for 20-20 Cricket\"\n",
    "\n",
    "-On a player's input, if their score guess is\n",
    "  within 10 of the number, return \"Close By, you are True Indian Fan! \"\n",
    "  \n",
    "-further than 10 away from the number, return \"You don't watch that much! :P \""
   ]
  },
  {
   "cell_type": "code",
   "execution_count": 8,
   "metadata": {},
   "outputs": [
    {
     "output_type": "stream",
     "name": "stdout",
     "text": "Guessing Team India Score in 20-20 Cricket\nEnter a number between 1 to 250:\nIndian Team score is 134\nYou don't watch that much! :P\n"
    }
   ],
   "source": [
    "from random import randint\n",
    "print(\"Guessing Team India Score in 20-20 Cricket\")\n",
    "print(\"Enter a number between 1 to 250:\")\n",
    "num = input(\"Enter a number between 1 to 250\")\n",
    "num = int(num)\n",
    "if(num >= 1 and num <= 250):\n",
    "    value = randint(1, 250)\n",
    "    print(\"Indian Team score is \" + str(value))\n",
    "    if(num == value):\n",
    "        print(\"you are True Indian Fan! \")\n",
    "    elif(num >= (value - 10) and num <= (value + 10)):\n",
    "        print(\"Close By, you are True Indian Fan! \")\n",
    "    else:\n",
    "        print(\"You don't watch that much! :P\")\n",
    "else:\n",
    "    print(\"Reduce your expectation for 20-20 Cricket\")"
   ]
  },
  {
   "cell_type": "code",
   "execution_count": null,
   "metadata": {},
   "outputs": [],
   "source": []
  }
 ]
}