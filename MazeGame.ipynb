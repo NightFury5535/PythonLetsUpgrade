{
 "nbformat": 4,
 "nbformat_minor": 2,
 "metadata": {
  "language_info": {
   "name": "python",
   "codemirror_mode": {
    "name": "ipython",
    "version": 3
   },
   "version": "3.7.3-final"
  },
  "orig_nbformat": 2,
  "file_extension": ".py",
  "mimetype": "text/x-python",
  "name": "python",
  "npconvert_exporter": "python",
  "pygments_lexer": "ipython3",
  "version": 3,
  "kernelspec": {
   "name": "python37364bitbaseconda1e97a5aac42d44f8a6cc1f064361dc78",
   "display_name": "Python 3.7.3 64-bit ('base': conda)"
  }
 },
 "cells": [
  {
   "cell_type": "markdown",
   "metadata": {},
   "source": [
    "Ankit is in maze. The command center sent him a string which decodes to come out from the maze. \n",
    "\n",
    "He is initially at (0, 0).\n",
    "\n",
    "String contains L, R, U, D denoting left, right, up and down.\n",
    "\n",
    "In each command he will traverse 1 unit distance in the respective direction."
   ],
   "execution_count": null,
   "outputs": []
  },
  {
   "cell_type": "code",
   "execution_count": 16,
   "metadata": {},
   "outputs": [
    {
     "output_type": "stream",
     "name": "stdout",
     "text": "Maze Game\nYour final destination coordinates (2,8)\nYour total commands is 10\nYour current position (1,0)\nYour current position (2,0)\nYour current position (2,1)\nYour current position (2,2)\nYour current position (2,3)\nYour current position (2,4)\nYour current position (2,5)\nYour current position (2,6)\nYour current position (2,7)\nYour current position (2,8)\nDestination Reached.\nYou have reached the final Destination.\n"
    }
   ],
   "source": [
    "from random import randint\n",
    "print(\"Maze Game\")\n",
    "\n",
    "x_position = 0\n",
    "y_position = 0\n",
    "\n",
    "x_final_position = randint(-10, 10)\n",
    "y_final_position = randint(-10, 10)\n",
    "\n",
    "# get_final_position()\n",
    "\n",
    "moves = 0\n",
    "maximum_moves = abs(x_final_position) + abs(y_final_position)\n",
    "\n",
    "print(\"Your final destination coordinates (\" + str(x_final_position) + \",\" + str(y_final_position) +\")\")\n",
    "print(\"Your total commands is \"+ str(maximum_moves))\n",
    "\n",
    "while(moves < maximum_moves):\n",
    "    moves += 1\n",
    "    command = input(\"Enter anyone command R,L,U and D\")\n",
    "    if(command.lower() == \"r\"):\n",
    "        x_position += 1\n",
    "    elif(command.lower() == \"l\"):\n",
    "        x_position -= 1\n",
    "    elif(command.lower() == \"u\"):\n",
    "        y_position += 1\n",
    "    elif(command.lower() == \"d\"):\n",
    "        y_position -= 1\n",
    "    else:\n",
    "        print(\"Enter the correct command\")\n",
    "    print(\"Your current position (\" + str(x_position) + \",\" + str(y_position) +\")\")\n",
    "    if(x_final_position == x_position and y_final_position == y_position):\n",
    "        print(\"Destination Reached.\")\n",
    "        print(\"You have reached the final Destination.\")\n",
    "        break\n",
    "\n",
    "def get_final_position():\n",
    "    x_final_position = randint(-10, 10)\n",
    "    y_final_position = randint(-10, 10)\n",
    "    if(x_final_position == 0 and y_final_position == 0):\n",
    "        get_final_position()\n",
    ""
   ]
  },
  {
   "cell_type": "code",
   "execution_count": null,
   "metadata": {},
   "outputs": [],
   "source": []
  }
 ]
}